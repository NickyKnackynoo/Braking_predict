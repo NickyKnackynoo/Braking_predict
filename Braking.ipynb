{
 "cells": [
  {
   "cell_type": "code",
   "execution_count": 2,
   "metadata": {
    "scrolled": true
   },
   "outputs": [
    {
     "name": "stderr",
     "output_type": "stream",
     "text": [
      "C:\\Users\\charl\\Anaconda3\\lib\\site-packages\\IPython\\core\\interactiveshell.py:3020: DtypeWarning: Columns (1) have mixed types. Specify dtype option on import or set low_memory=False.\n",
      "  interactivity=interactivity, compiler=compiler, result=result)\n"
     ]
    }
   ],
   "source": [
    "# Load the Pandas libraries with alias 'pd' \n",
    "import pandas as pd \n",
    "import pandas_profiling\n",
    "from scipy import stats\n",
    "import numpy as np\n",
    "from sklearn.linear_model import LinearRegression\n",
    "import matplotlib.pyplot as plt\n",
    "from sklearn.model_selection import train_test_split\n",
    "from sklearn.metrics import mean_squared_error, r2_score\n",
    "# Read data from file 'filename.csv' \n",
    "# (in the same directory that your python process is based)\n",
    "# Control delimiters, rows, column names with read_csv (see later) \n",
    "#data = pd.read_csv(r\"C:\\Users\\Nick Rendell\\Desktop\\20190918-49181-dump.csv\")\n",
    "data = pd.read_csv(r\"C:\\Users\\charl\\Dropbox\\TheBusiness\\Data Scientist\\Braking\\Data\\20190918-49181-dump.csv\")"
   ]
  },
  {
   "cell_type": "code",
   "execution_count": 130,
   "metadata": {},
   "outputs": [],
   "source": [
    "import math"
   ]
  },
  {
   "cell_type": "code",
   "execution_count": 37,
   "metadata": {},
   "outputs": [],
   "source": [
    "from yellowbrick.regressor import ResidualsPlot"
   ]
  },
  {
   "cell_type": "markdown",
   "metadata": {},
   "source": [
    "Remove unnecesary columns"
   ]
  },
  {
   "cell_type": "code",
   "execution_count": 3,
   "metadata": {},
   "outputs": [],
   "source": [
    "data.drop(['asset_name','asset_id'], axis=1, inplace = True)"
   ]
  },
  {
   "cell_type": "markdown",
   "metadata": {},
   "source": [
    "Calculate new variables  - braking rate"
   ]
  },
  {
   "cell_type": "markdown",
   "metadata": {},
   "source": [
    " braking rate = Start speed minus end speed divided by duration divided by 9.8 multiplied by 100"
   ]
  },
  {
   "cell_type": "code",
   "execution_count": 4,
   "metadata": {},
   "outputs": [],
   "source": [
    "data['braking_rate'] = (data['start_wheel_speed_mps'] - data['end_wheel_speed_mps']) / data['duration_ms'] / 9.8* 100\n",
    "                        "
   ]
  },
  {
   "cell_type": "markdown",
   "metadata": {},
   "source": [
    "Take dataset from original data"
   ]
  },
  {
   "cell_type": "code",
   "execution_count": null,
   "metadata": {},
   "outputs": [],
   "source": [
    "filtered_data = cleaned.sample(n = 20000, replace=True, random_state=1)"
   ]
  },
  {
   "cell_type": "code",
   "execution_count": 204,
   "metadata": {},
   "outputs": [],
   "source": [
    "single_asset = cleaned.sample(n = 20000, replace=True, random_state=1)"
   ]
  },
  {
   "cell_type": "code",
   "execution_count": 19,
   "metadata": {
    "scrolled": true
   },
   "outputs": [
    {
     "data": {
      "text/html": [
       "<div>\n",
       "<style scoped>\n",
       "    .dataframe tbody tr th:only-of-type {\n",
       "        vertical-align: middle;\n",
       "    }\n",
       "\n",
       "    .dataframe tbody tr th {\n",
       "        vertical-align: top;\n",
       "    }\n",
       "\n",
       "    .dataframe thead th {\n",
       "        text-align: right;\n",
       "    }\n",
       "</style>\n",
       "<table border=\"1\" class=\"dataframe\">\n",
       "  <thead>\n",
       "    <tr style=\"text-align: right;\">\n",
       "      <th></th>\n",
       "      <th>duration_ms</th>\n",
       "      <th>average_demand_pressure_bar</th>\n",
       "      <th>average_delivery_pressure_bar</th>\n",
       "      <th>start_wheel_speed_mps</th>\n",
       "      <th>end_wheel_speed_mps</th>\n",
       "      <th>start_gps_speed_mps</th>\n",
       "      <th>start_gps_speed_accuracy_mps</th>\n",
       "      <th>end_gps_speed_mps</th>\n",
       "      <th>end_gps_speed_accuracy_mps</th>\n",
       "      <th>start_latitude</th>\n",
       "      <th>...</th>\n",
       "      <th>bag_pressure_bar</th>\n",
       "      <th>uphill_angle_before_deg_0</th>\n",
       "      <th>uphill_angle_before_deg_1</th>\n",
       "      <th>uphill_angle_before_deg_2</th>\n",
       "      <th>uphill_angle_before_deg_3</th>\n",
       "      <th>uphill_angle_before_deg_4</th>\n",
       "      <th>mass_kg</th>\n",
       "      <th>load_percent_inc_bogie</th>\n",
       "      <th>here_maps_uphill_angle_deg</th>\n",
       "      <th>braking_rate</th>\n",
       "    </tr>\n",
       "  </thead>\n",
       "  <tbody>\n",
       "    <tr>\n",
       "      <th>count</th>\n",
       "      <td>900.000000</td>\n",
       "      <td>900.000000</td>\n",
       "      <td>900.000000</td>\n",
       "      <td>900.000000</td>\n",
       "      <td>900.000000</td>\n",
       "      <td>899.000000</td>\n",
       "      <td>899.000000</td>\n",
       "      <td>899.000000</td>\n",
       "      <td>899.000000</td>\n",
       "      <td>633.000000</td>\n",
       "      <td>...</td>\n",
       "      <td>900.000000</td>\n",
       "      <td>900.000000</td>\n",
       "      <td>900.000000</td>\n",
       "      <td>900.000000</td>\n",
       "      <td>900.000000</td>\n",
       "      <td>900.000000</td>\n",
       "      <td>900.000000</td>\n",
       "      <td>900.000000</td>\n",
       "      <td>234.000000</td>\n",
       "      <td>900.000000</td>\n",
       "    </tr>\n",
       "    <tr>\n",
       "      <th>mean</th>\n",
       "      <td>2139.542222</td>\n",
       "      <td>1.814327</td>\n",
       "      <td>0.994604</td>\n",
       "      <td>11.399396</td>\n",
       "      <td>8.839847</td>\n",
       "      <td>11.920990</td>\n",
       "      <td>1.718309</td>\n",
       "      <td>9.927308</td>\n",
       "      <td>1.672024</td>\n",
       "      <td>51.665907</td>\n",
       "      <td>...</td>\n",
       "      <td>1.674578</td>\n",
       "      <td>-1.856444</td>\n",
       "      <td>-1.257256</td>\n",
       "      <td>-0.767722</td>\n",
       "      <td>-0.429067</td>\n",
       "      <td>-0.095089</td>\n",
       "      <td>9516.336043</td>\n",
       "      <td>39.651400</td>\n",
       "      <td>-0.622364</td>\n",
       "      <td>0.012356</td>\n",
       "    </tr>\n",
       "    <tr>\n",
       "      <th>std</th>\n",
       "      <td>1225.488885</td>\n",
       "      <td>0.477322</td>\n",
       "      <td>0.281025</td>\n",
       "      <td>4.778624</td>\n",
       "      <td>5.163446</td>\n",
       "      <td>4.764989</td>\n",
       "      <td>0.731745</td>\n",
       "      <td>4.967592</td>\n",
       "      <td>0.727242</td>\n",
       "      <td>0.474292</td>\n",
       "      <td>...</td>\n",
       "      <td>0.788883</td>\n",
       "      <td>2.524408</td>\n",
       "      <td>2.482632</td>\n",
       "      <td>2.390777</td>\n",
       "      <td>2.274770</td>\n",
       "      <td>2.248073</td>\n",
       "      <td>3655.800337</td>\n",
       "      <td>15.232501</td>\n",
       "      <td>1.270237</td>\n",
       "      <td>0.004618</td>\n",
       "    </tr>\n",
       "    <tr>\n",
       "      <th>min</th>\n",
       "      <td>1000.000000</td>\n",
       "      <td>0.648000</td>\n",
       "      <td>0.411000</td>\n",
       "      <td>4.444000</td>\n",
       "      <td>2.500000</td>\n",
       "      <td>1.840000</td>\n",
       "      <td>0.160000</td>\n",
       "      <td>1.150000</td>\n",
       "      <td>0.150000</td>\n",
       "      <td>50.382190</td>\n",
       "      <td>...</td>\n",
       "      <td>0.720000</td>\n",
       "      <td>-9.760000</td>\n",
       "      <td>-9.870000</td>\n",
       "      <td>-8.400000</td>\n",
       "      <td>-8.710000</td>\n",
       "      <td>-8.170000</td>\n",
       "      <td>5092.682927</td>\n",
       "      <td>21.219512</td>\n",
       "      <td>-5.838000</td>\n",
       "      <td>0.000946</td>\n",
       "    </tr>\n",
       "    <tr>\n",
       "      <th>25%</th>\n",
       "      <td>1270.000000</td>\n",
       "      <td>1.552000</td>\n",
       "      <td>0.800000</td>\n",
       "      <td>7.500000</td>\n",
       "      <td>4.722000</td>\n",
       "      <td>8.240000</td>\n",
       "      <td>1.195000</td>\n",
       "      <td>6.115000</td>\n",
       "      <td>1.160000</td>\n",
       "      <td>51.504370</td>\n",
       "      <td>...</td>\n",
       "      <td>0.960000</td>\n",
       "      <td>-3.530000</td>\n",
       "      <td>-2.795000</td>\n",
       "      <td>-2.192500</td>\n",
       "      <td>-1.587500</td>\n",
       "      <td>-1.110000</td>\n",
       "      <td>6204.878049</td>\n",
       "      <td>25.853659</td>\n",
       "      <td>-1.273634</td>\n",
       "      <td>0.009695</td>\n",
       "    </tr>\n",
       "    <tr>\n",
       "      <th>50%</th>\n",
       "      <td>1770.000000</td>\n",
       "      <td>1.788500</td>\n",
       "      <td>0.956000</td>\n",
       "      <td>10.556000</td>\n",
       "      <td>7.222000</td>\n",
       "      <td>10.950000</td>\n",
       "      <td>1.640000</td>\n",
       "      <td>8.440000</td>\n",
       "      <td>1.590000</td>\n",
       "      <td>51.539460</td>\n",
       "      <td>...</td>\n",
       "      <td>1.600000</td>\n",
       "      <td>-1.430000</td>\n",
       "      <td>-0.755000</td>\n",
       "      <td>-0.250000</td>\n",
       "      <td>-0.040000</td>\n",
       "      <td>0.155000</td>\n",
       "      <td>9170.731707</td>\n",
       "      <td>38.211382</td>\n",
       "      <td>-0.435378</td>\n",
       "      <td>0.012379</td>\n",
       "    </tr>\n",
       "    <tr>\n",
       "      <th>75%</th>\n",
       "      <td>2610.000000</td>\n",
       "      <td>2.098250</td>\n",
       "      <td>1.145000</td>\n",
       "      <td>14.167000</td>\n",
       "      <td>11.389000</td>\n",
       "      <td>14.880000</td>\n",
       "      <td>2.250000</td>\n",
       "      <td>12.710000</td>\n",
       "      <td>2.130000</td>\n",
       "      <td>51.657620</td>\n",
       "      <td>...</td>\n",
       "      <td>2.000000</td>\n",
       "      <td>0.112500</td>\n",
       "      <td>0.412500</td>\n",
       "      <td>0.672500</td>\n",
       "      <td>0.840000</td>\n",
       "      <td>1.022500</td>\n",
       "      <td>11024.390244</td>\n",
       "      <td>45.934959</td>\n",
       "      <td>0.205075</td>\n",
       "      <td>0.015222</td>\n",
       "    </tr>\n",
       "    <tr>\n",
       "      <th>max</th>\n",
       "      <td>11550.000000</td>\n",
       "      <td>4.108000</td>\n",
       "      <td>2.218000</td>\n",
       "      <td>26.389000</td>\n",
       "      <td>25.833000</td>\n",
       "      <td>26.690000</td>\n",
       "      <td>4.340000</td>\n",
       "      <td>26.070000</td>\n",
       "      <td>4.520000</td>\n",
       "      <td>53.707480</td>\n",
       "      <td>...</td>\n",
       "      <td>3.760000</td>\n",
       "      <td>6.740000</td>\n",
       "      <td>7.920000</td>\n",
       "      <td>8.100000</td>\n",
       "      <td>7.070000</td>\n",
       "      <td>7.590000</td>\n",
       "      <td>19180.487805</td>\n",
       "      <td>79.918699</td>\n",
       "      <td>2.908000</td>\n",
       "      <td>0.031168</td>\n",
       "    </tr>\n",
       "  </tbody>\n",
       "</table>\n",
       "<p>8 rows × 23 columns</p>\n",
       "</div>"
      ],
      "text/plain": [
       "        duration_ms  average_demand_pressure_bar  \\\n",
       "count    900.000000                   900.000000   \n",
       "mean    2139.542222                     1.814327   \n",
       "std     1225.488885                     0.477322   \n",
       "min     1000.000000                     0.648000   \n",
       "25%     1270.000000                     1.552000   \n",
       "50%     1770.000000                     1.788500   \n",
       "75%     2610.000000                     2.098250   \n",
       "max    11550.000000                     4.108000   \n",
       "\n",
       "       average_delivery_pressure_bar  start_wheel_speed_mps  \\\n",
       "count                     900.000000             900.000000   \n",
       "mean                        0.994604              11.399396   \n",
       "std                         0.281025               4.778624   \n",
       "min                         0.411000               4.444000   \n",
       "25%                         0.800000               7.500000   \n",
       "50%                         0.956000              10.556000   \n",
       "75%                         1.145000              14.167000   \n",
       "max                         2.218000              26.389000   \n",
       "\n",
       "       end_wheel_speed_mps  start_gps_speed_mps  start_gps_speed_accuracy_mps  \\\n",
       "count           900.000000           899.000000                    899.000000   \n",
       "mean              8.839847            11.920990                      1.718309   \n",
       "std               5.163446             4.764989                      0.731745   \n",
       "min               2.500000             1.840000                      0.160000   \n",
       "25%               4.722000             8.240000                      1.195000   \n",
       "50%               7.222000            10.950000                      1.640000   \n",
       "75%              11.389000            14.880000                      2.250000   \n",
       "max              25.833000            26.690000                      4.340000   \n",
       "\n",
       "       end_gps_speed_mps  end_gps_speed_accuracy_mps  start_latitude  \\\n",
       "count         899.000000                  899.000000      633.000000   \n",
       "mean            9.927308                    1.672024       51.665907   \n",
       "std             4.967592                    0.727242        0.474292   \n",
       "min             1.150000                    0.150000       50.382190   \n",
       "25%             6.115000                    1.160000       51.504370   \n",
       "50%             8.440000                    1.590000       51.539460   \n",
       "75%            12.710000                    2.130000       51.657620   \n",
       "max            26.070000                    4.520000       53.707480   \n",
       "\n",
       "           ...       bag_pressure_bar  uphill_angle_before_deg_0  \\\n",
       "count      ...             900.000000                 900.000000   \n",
       "mean       ...               1.674578                  -1.856444   \n",
       "std        ...               0.788883                   2.524408   \n",
       "min        ...               0.720000                  -9.760000   \n",
       "25%        ...               0.960000                  -3.530000   \n",
       "50%        ...               1.600000                  -1.430000   \n",
       "75%        ...               2.000000                   0.112500   \n",
       "max        ...               3.760000                   6.740000   \n",
       "\n",
       "       uphill_angle_before_deg_1  uphill_angle_before_deg_2  \\\n",
       "count                 900.000000                 900.000000   \n",
       "mean                   -1.257256                  -0.767722   \n",
       "std                     2.482632                   2.390777   \n",
       "min                    -9.870000                  -8.400000   \n",
       "25%                    -2.795000                  -2.192500   \n",
       "50%                    -0.755000                  -0.250000   \n",
       "75%                     0.412500                   0.672500   \n",
       "max                     7.920000                   8.100000   \n",
       "\n",
       "       uphill_angle_before_deg_3  uphill_angle_before_deg_4       mass_kg  \\\n",
       "count                 900.000000                 900.000000    900.000000   \n",
       "mean                   -0.429067                  -0.095089   9516.336043   \n",
       "std                     2.274770                   2.248073   3655.800337   \n",
       "min                    -8.710000                  -8.170000   5092.682927   \n",
       "25%                    -1.587500                  -1.110000   6204.878049   \n",
       "50%                    -0.040000                   0.155000   9170.731707   \n",
       "75%                     0.840000                   1.022500  11024.390244   \n",
       "max                     7.070000                   7.590000  19180.487805   \n",
       "\n",
       "       load_percent_inc_bogie  here_maps_uphill_angle_deg  braking_rate  \n",
       "count              900.000000                  234.000000    900.000000  \n",
       "mean                39.651400                   -0.622364      0.012356  \n",
       "std                 15.232501                    1.270237      0.004618  \n",
       "min                 21.219512                   -5.838000      0.000946  \n",
       "25%                 25.853659                   -1.273634      0.009695  \n",
       "50%                 38.211382                   -0.435378      0.012379  \n",
       "75%                 45.934959                    0.205075      0.015222  \n",
       "max                 79.918699                    2.908000      0.031168  \n",
       "\n",
       "[8 rows x 23 columns]"
      ]
     },
     "execution_count": 19,
     "metadata": {},
     "output_type": "execute_result"
    }
   ],
   "source": [
    "single_asset.describe()"
   ]
  },
  {
   "cell_type": "markdown",
   "metadata": {},
   "source": [
    "Data overview"
   ]
  },
  {
   "cell_type": "code",
   "execution_count": null,
   "metadata": {
    "scrolled": false
   },
   "outputs": [],
   "source": [
    "filtered_data.profile_report(style={'full_width':True})"
   ]
  },
  {
   "cell_type": "markdown",
   "metadata": {},
   "source": [
    "Remove missing values"
   ]
  },
  {
   "cell_type": "code",
   "execution_count": 5,
   "metadata": {},
   "outputs": [],
   "source": [
    "data.dropna(subset=['average_delivery_pressure_bar','average_demand_pressure_bar', 'uphill_angle_before_deg_4','load_percent_inc_bogie','mass_kg'],inplace=True)"
   ]
  },
  {
   "cell_type": "markdown",
   "metadata": {},
   "source": [
    " Remove outliers (3sd)"
   ]
  },
  {
   "cell_type": "code",
   "execution_count": 6,
   "metadata": {},
   "outputs": [],
   "source": [
    "cleaned = data[data.apply(lambda x: np.abs(x - x.mean()) / x.std() < 3).all(axis=1)]"
   ]
  },
  {
   "cell_type": "markdown",
   "metadata": {},
   "source": [
    "Remove asset name column"
   ]
  },
  {
   "cell_type": "code",
   "execution_count": 7,
   "metadata": {},
   "outputs": [
    {
     "data": {
      "text/html": [
       "<div>\n",
       "<style scoped>\n",
       "    .dataframe tbody tr th:only-of-type {\n",
       "        vertical-align: middle;\n",
       "    }\n",
       "\n",
       "    .dataframe tbody tr th {\n",
       "        vertical-align: top;\n",
       "    }\n",
       "\n",
       "    .dataframe thead th {\n",
       "        text-align: right;\n",
       "    }\n",
       "</style>\n",
       "<table border=\"1\" class=\"dataframe\">\n",
       "  <thead>\n",
       "    <tr style=\"text-align: right;\">\n",
       "      <th></th>\n",
       "      <th>duration_ms</th>\n",
       "      <th>average_demand_pressure_bar</th>\n",
       "      <th>average_delivery_pressure_bar</th>\n",
       "      <th>start_wheel_speed_mps</th>\n",
       "      <th>end_wheel_speed_mps</th>\n",
       "      <th>start_gps_speed_mps</th>\n",
       "      <th>start_gps_speed_accuracy_mps</th>\n",
       "      <th>end_gps_speed_mps</th>\n",
       "      <th>end_gps_speed_accuracy_mps</th>\n",
       "      <th>start_latitude</th>\n",
       "      <th>...</th>\n",
       "      <th>bag_pressure_bar</th>\n",
       "      <th>uphill_angle_before_deg_0</th>\n",
       "      <th>uphill_angle_before_deg_1</th>\n",
       "      <th>uphill_angle_before_deg_2</th>\n",
       "      <th>uphill_angle_before_deg_3</th>\n",
       "      <th>uphill_angle_before_deg_4</th>\n",
       "      <th>mass_kg</th>\n",
       "      <th>load_percent_inc_bogie</th>\n",
       "      <th>here_maps_uphill_angle_deg</th>\n",
       "      <th>braking_rate</th>\n",
       "    </tr>\n",
       "  </thead>\n",
       "  <tbody>\n",
       "    <tr>\n",
       "      <th>count</th>\n",
       "      <td>690656.000000</td>\n",
       "      <td>690656.000000</td>\n",
       "      <td>690656.000000</td>\n",
       "      <td>690656.000000</td>\n",
       "      <td>690656.000000</td>\n",
       "      <td>690656.000000</td>\n",
       "      <td>690656.000000</td>\n",
       "      <td>690656.000000</td>\n",
       "      <td>690656.000000</td>\n",
       "      <td>690656.000000</td>\n",
       "      <td>...</td>\n",
       "      <td>690656.000000</td>\n",
       "      <td>690656.000000</td>\n",
       "      <td>690656.000000</td>\n",
       "      <td>690656.000000</td>\n",
       "      <td>690656.000000</td>\n",
       "      <td>690656.000000</td>\n",
       "      <td>690656.000000</td>\n",
       "      <td>690656.000000</td>\n",
       "      <td>690656.000000</td>\n",
       "      <td>690656.000000</td>\n",
       "    </tr>\n",
       "    <tr>\n",
       "      <th>mean</th>\n",
       "      <td>2026.910236</td>\n",
       "      <td>1.728100</td>\n",
       "      <td>1.003819</td>\n",
       "      <td>12.865922</td>\n",
       "      <td>10.415923</td>\n",
       "      <td>13.791040</td>\n",
       "      <td>0.328646</td>\n",
       "      <td>11.817901</td>\n",
       "      <td>0.326203</td>\n",
       "      <td>52.640330</td>\n",
       "      <td>...</td>\n",
       "      <td>1.860152</td>\n",
       "      <td>-2.778388</td>\n",
       "      <td>-2.157649</td>\n",
       "      <td>-1.661977</td>\n",
       "      <td>-1.267427</td>\n",
       "      <td>-0.945053</td>\n",
       "      <td>10931.467625</td>\n",
       "      <td>45.406669</td>\n",
       "      <td>-0.316242</td>\n",
       "      <td>0.012509</td>\n",
       "    </tr>\n",
       "    <tr>\n",
       "      <th>std</th>\n",
       "      <td>989.839088</td>\n",
       "      <td>0.404507</td>\n",
       "      <td>0.303723</td>\n",
       "      <td>5.111293</td>\n",
       "      <td>5.313942</td>\n",
       "      <td>5.220258</td>\n",
       "      <td>0.183480</td>\n",
       "      <td>5.419136</td>\n",
       "      <td>0.180723</td>\n",
       "      <td>1.007655</td>\n",
       "      <td>...</td>\n",
       "      <td>1.256133</td>\n",
       "      <td>3.004394</td>\n",
       "      <td>2.903191</td>\n",
       "      <td>2.812929</td>\n",
       "      <td>2.737018</td>\n",
       "      <td>2.681952</td>\n",
       "      <td>5943.304680</td>\n",
       "      <td>24.690488</td>\n",
       "      <td>1.043390</td>\n",
       "      <td>0.005124</td>\n",
       "    </tr>\n",
       "    <tr>\n",
       "      <th>min</th>\n",
       "      <td>1000.000000</td>\n",
       "      <td>0.600000</td>\n",
       "      <td>0.089000</td>\n",
       "      <td>4.039000</td>\n",
       "      <td>0.000000</td>\n",
       "      <td>0.650000</td>\n",
       "      <td>0.060000</td>\n",
       "      <td>0.100000</td>\n",
       "      <td>0.070000</td>\n",
       "      <td>50.254640</td>\n",
       "      <td>...</td>\n",
       "      <td>0.000000</td>\n",
       "      <td>-10.000000</td>\n",
       "      <td>-10.000000</td>\n",
       "      <td>-10.000000</td>\n",
       "      <td>-9.850000</td>\n",
       "      <td>-9.340000</td>\n",
       "      <td>3000.000000</td>\n",
       "      <td>11.111111</td>\n",
       "      <td>-3.742800</td>\n",
       "      <td>0.000008</td>\n",
       "    </tr>\n",
       "    <tr>\n",
       "      <th>25%</th>\n",
       "      <td>1286.000000</td>\n",
       "      <td>1.582000</td>\n",
       "      <td>0.792000</td>\n",
       "      <td>8.685000</td>\n",
       "      <td>6.035000</td>\n",
       "      <td>9.580000</td>\n",
       "      <td>0.210000</td>\n",
       "      <td>7.300000</td>\n",
       "      <td>0.210000</td>\n",
       "      <td>51.926237</td>\n",
       "      <td>...</td>\n",
       "      <td>0.800000</td>\n",
       "      <td>-4.910000</td>\n",
       "      <td>-4.180000</td>\n",
       "      <td>-3.530000</td>\n",
       "      <td>-3.010000</td>\n",
       "      <td>-2.590000</td>\n",
       "      <td>5876.283186</td>\n",
       "      <td>24.484513</td>\n",
       "      <td>-0.915000</td>\n",
       "      <td>0.009189</td>\n",
       "    </tr>\n",
       "    <tr>\n",
       "      <th>50%</th>\n",
       "      <td>1720.000000</td>\n",
       "      <td>1.746000</td>\n",
       "      <td>0.947000</td>\n",
       "      <td>12.134000</td>\n",
       "      <td>9.444000</td>\n",
       "      <td>13.100000</td>\n",
       "      <td>0.270000</td>\n",
       "      <td>10.880000</td>\n",
       "      <td>0.270000</td>\n",
       "      <td>52.535230</td>\n",
       "      <td>...</td>\n",
       "      <td>1.360000</td>\n",
       "      <td>-2.730000</td>\n",
       "      <td>-1.990000</td>\n",
       "      <td>-1.470000</td>\n",
       "      <td>-1.110000</td>\n",
       "      <td>-0.830000</td>\n",
       "      <td>8634.666667</td>\n",
       "      <td>35.847345</td>\n",
       "      <td>-0.217667</td>\n",
       "      <td>0.012326</td>\n",
       "    </tr>\n",
       "    <tr>\n",
       "      <th>75%</th>\n",
       "      <td>2460.000000</td>\n",
       "      <td>1.963000</td>\n",
       "      <td>1.186000</td>\n",
       "      <td>16.389000</td>\n",
       "      <td>13.806000</td>\n",
       "      <td>17.440000</td>\n",
       "      <td>0.380000</td>\n",
       "      <td>15.350000</td>\n",
       "      <td>0.380000</td>\n",
       "      <td>53.321052</td>\n",
       "      <td>...</td>\n",
       "      <td>2.640000</td>\n",
       "      <td>-0.720000</td>\n",
       "      <td>-0.180000</td>\n",
       "      <td>0.200000</td>\n",
       "      <td>0.500000</td>\n",
       "      <td>0.740000</td>\n",
       "      <td>15352.173913</td>\n",
       "      <td>63.478261</td>\n",
       "      <td>0.284860</td>\n",
       "      <td>0.015455</td>\n",
       "    </tr>\n",
       "    <tr>\n",
       "      <th>max</th>\n",
       "      <td>5883.000000</td>\n",
       "      <td>3.014000</td>\n",
       "      <td>2.023000</td>\n",
       "      <td>28.039000</td>\n",
       "      <td>25.961000</td>\n",
       "      <td>29.190000</td>\n",
       "      <td>1.340000</td>\n",
       "      <td>27.700000</td>\n",
       "      <td>1.320000</td>\n",
       "      <td>55.955780</td>\n",
       "      <td>...</td>\n",
       "      <td>5.680000</td>\n",
       "      <td>6.600000</td>\n",
       "      <td>6.920000</td>\n",
       "      <td>7.140000</td>\n",
       "      <td>7.290000</td>\n",
       "      <td>7.420000</td>\n",
       "      <td>29130.000000</td>\n",
       "      <td>121.375000</td>\n",
       "      <td>3.040000</td>\n",
       "      <td>0.038495</td>\n",
       "    </tr>\n",
       "  </tbody>\n",
       "</table>\n",
       "<p>8 rows × 23 columns</p>\n",
       "</div>"
      ],
      "text/plain": [
       "         duration_ms  average_demand_pressure_bar  \\\n",
       "count  690656.000000                690656.000000   \n",
       "mean     2026.910236                     1.728100   \n",
       "std       989.839088                     0.404507   \n",
       "min      1000.000000                     0.600000   \n",
       "25%      1286.000000                     1.582000   \n",
       "50%      1720.000000                     1.746000   \n",
       "75%      2460.000000                     1.963000   \n",
       "max      5883.000000                     3.014000   \n",
       "\n",
       "       average_delivery_pressure_bar  start_wheel_speed_mps  \\\n",
       "count                  690656.000000          690656.000000   \n",
       "mean                        1.003819              12.865922   \n",
       "std                         0.303723               5.111293   \n",
       "min                         0.089000               4.039000   \n",
       "25%                         0.792000               8.685000   \n",
       "50%                         0.947000              12.134000   \n",
       "75%                         1.186000              16.389000   \n",
       "max                         2.023000              28.039000   \n",
       "\n",
       "       end_wheel_speed_mps  start_gps_speed_mps  start_gps_speed_accuracy_mps  \\\n",
       "count        690656.000000        690656.000000                 690656.000000   \n",
       "mean             10.415923            13.791040                      0.328646   \n",
       "std               5.313942             5.220258                      0.183480   \n",
       "min               0.000000             0.650000                      0.060000   \n",
       "25%               6.035000             9.580000                      0.210000   \n",
       "50%               9.444000            13.100000                      0.270000   \n",
       "75%              13.806000            17.440000                      0.380000   \n",
       "max              25.961000            29.190000                      1.340000   \n",
       "\n",
       "       end_gps_speed_mps  end_gps_speed_accuracy_mps  start_latitude  \\\n",
       "count      690656.000000               690656.000000   690656.000000   \n",
       "mean           11.817901                    0.326203       52.640330   \n",
       "std             5.419136                    0.180723        1.007655   \n",
       "min             0.100000                    0.070000       50.254640   \n",
       "25%             7.300000                    0.210000       51.926237   \n",
       "50%            10.880000                    0.270000       52.535230   \n",
       "75%            15.350000                    0.380000       53.321052   \n",
       "max            27.700000                    1.320000       55.955780   \n",
       "\n",
       "           ...        bag_pressure_bar  uphill_angle_before_deg_0  \\\n",
       "count      ...           690656.000000              690656.000000   \n",
       "mean       ...                1.860152                  -2.778388   \n",
       "std        ...                1.256133                   3.004394   \n",
       "min        ...                0.000000                 -10.000000   \n",
       "25%        ...                0.800000                  -4.910000   \n",
       "50%        ...                1.360000                  -2.730000   \n",
       "75%        ...                2.640000                  -0.720000   \n",
       "max        ...                5.680000                   6.600000   \n",
       "\n",
       "       uphill_angle_before_deg_1  uphill_angle_before_deg_2  \\\n",
       "count              690656.000000              690656.000000   \n",
       "mean                   -2.157649                  -1.661977   \n",
       "std                     2.903191                   2.812929   \n",
       "min                   -10.000000                 -10.000000   \n",
       "25%                    -4.180000                  -3.530000   \n",
       "50%                    -1.990000                  -1.470000   \n",
       "75%                    -0.180000                   0.200000   \n",
       "max                     6.920000                   7.140000   \n",
       "\n",
       "       uphill_angle_before_deg_3  uphill_angle_before_deg_4        mass_kg  \\\n",
       "count              690656.000000              690656.000000  690656.000000   \n",
       "mean                   -1.267427                  -0.945053   10931.467625   \n",
       "std                     2.737018                   2.681952    5943.304680   \n",
       "min                    -9.850000                  -9.340000    3000.000000   \n",
       "25%                    -3.010000                  -2.590000    5876.283186   \n",
       "50%                    -1.110000                  -0.830000    8634.666667   \n",
       "75%                     0.500000                   0.740000   15352.173913   \n",
       "max                     7.290000                   7.420000   29130.000000   \n",
       "\n",
       "       load_percent_inc_bogie  here_maps_uphill_angle_deg   braking_rate  \n",
       "count           690656.000000               690656.000000  690656.000000  \n",
       "mean                45.406669                   -0.316242       0.012509  \n",
       "std                 24.690488                    1.043390       0.005124  \n",
       "min                 11.111111                   -3.742800       0.000008  \n",
       "25%                 24.484513                   -0.915000       0.009189  \n",
       "50%                 35.847345                   -0.217667       0.012326  \n",
       "75%                 63.478261                    0.284860       0.015455  \n",
       "max                121.375000                    3.040000       0.038495  \n",
       "\n",
       "[8 rows x 23 columns]"
      ]
     },
     "execution_count": 7,
     "metadata": {},
     "output_type": "execute_result"
    }
   ],
   "source": [
    "cleaned.describe()"
   ]
  },
  {
   "cell_type": "code",
   "execution_count": 8,
   "metadata": {
    "scrolled": true
   },
   "outputs": [
    {
     "name": "stderr",
     "output_type": "stream",
     "text": [
      "C:\\Users\\Nick Rendell\\Anaconda3\\lib\\site-packages\\ipykernel_launcher.py:1: SettingWithCopyWarning: \n",
      "A value is trying to be set on a copy of a slice from a DataFrame.\n",
      "Try using .loc[row_indexer,col_indexer] = value instead\n",
      "\n",
      "See the caveats in the documentation: http://pandas.pydata.org/pandas-docs/stable/indexing.html#indexing-view-versus-copy\n",
      "  \"\"\"Entry point for launching an IPython kernel.\n",
      "C:\\Users\\Nick Rendell\\Anaconda3\\lib\\site-packages\\ipykernel_launcher.py:3: SettingWithCopyWarning: \n",
      "A value is trying to be set on a copy of a slice from a DataFrame.\n",
      "Try using .loc[row_indexer,col_indexer] = value instead\n",
      "\n",
      "See the caveats in the documentation: http://pandas.pydata.org/pandas-docs/stable/indexing.html#indexing-view-versus-copy\n",
      "  This is separate from the ipykernel package so we can avoid doing imports until\n",
      "C:\\Users\\Nick Rendell\\Anaconda3\\lib\\site-packages\\ipykernel_launcher.py:5: SettingWithCopyWarning: \n",
      "A value is trying to be set on a copy of a slice from a DataFrame.\n",
      "Try using .loc[row_indexer,col_indexer] = value instead\n",
      "\n",
      "See the caveats in the documentation: http://pandas.pydata.org/pandas-docs/stable/indexing.html#indexing-view-versus-copy\n",
      "  \"\"\"\n",
      "C:\\Users\\Nick Rendell\\Anaconda3\\lib\\site-packages\\ipykernel_launcher.py:7: SettingWithCopyWarning: \n",
      "A value is trying to be set on a copy of a slice from a DataFrame.\n",
      "Try using .loc[row_indexer,col_indexer] = value instead\n",
      "\n",
      "See the caveats in the documentation: http://pandas.pydata.org/pandas-docs/stable/indexing.html#indexing-view-versus-copy\n",
      "  import sys\n",
      "C:\\Users\\Nick Rendell\\Anaconda3\\lib\\site-packages\\ipykernel_launcher.py:9: SettingWithCopyWarning: \n",
      "A value is trying to be set on a copy of a slice from a DataFrame.\n",
      "Try using .loc[row_indexer,col_indexer] = value instead\n",
      "\n",
      "See the caveats in the documentation: http://pandas.pydata.org/pandas-docs/stable/indexing.html#indexing-view-versus-copy\n",
      "  if __name__ == '__main__':\n"
     ]
    }
   ],
   "source": [
    "cleaned['DeliveryPress_Angle'] = cleaned.average_delivery_pressure_bar * cleaned.uphill_angle_before_deg_4\n",
    "\n",
    "cleaned['DeliveryPress_Load'] = cleaned.average_delivery_pressure_bar * cleaned.load_percent_inc_bogie\n",
    "\n",
    "cleaned['DeliveryPress_HereAngle'] = cleaned.average_delivery_pressure_bar * cleaned.here_maps_uphill_angle_deg\n",
    "\n",
    "cleaned['DeliveryPress_HereAngle_load'] = cleaned.average_delivery_pressure_bar * cleaned.here_maps_uphill_angle_deg * cleaned.load_percent_inc_bogie\n",
    "\n",
    "cleaned['DeliveryPress_Angle_load'] = cleaned.average_delivery_pressure_bar * cleaned.uphill_angle_before_deg_4 * cleaned.load_percent_inc_bogie"
   ]
  },
  {
   "cell_type": "code",
   "execution_count": 203,
   "metadata": {},
   "outputs": [
    {
     "name": "stderr",
     "output_type": "stream",
     "text": [
      "C:\\Users\\Nick Rendell\\Anaconda3\\lib\\site-packages\\ipykernel_launcher.py:1: SettingWithCopyWarning: \n",
      "A value is trying to be set on a copy of a slice from a DataFrame.\n",
      "Try using .loc[row_indexer,col_indexer] = value instead\n",
      "\n",
      "See the caveats in the documentation: http://pandas.pydata.org/pandas-docs/stable/indexing.html#indexing-view-versus-copy\n",
      "  \"\"\"Entry point for launching an IPython kernel.\n"
     ]
    }
   ],
   "source": [
    "cleaned['Log_braking'] = np.log(cleaned.braking_rate)"
   ]
  },
  {
   "cell_type": "code",
   "execution_count": 72,
   "metadata": {},
   "outputs": [],
   "source": [
    "RegressionOne_x = cleaned[['average_delivery_pressure_bar','average_demand_pressure_bar','DeliveryPress_Angle', 'DeliveryPress_Load', 'uphill_angle_before_deg_4','DeliveryPress_Angle','DeliveryPress_Angle_load','mass_kg']]\n",
    "\n"
   ]
  },
  {
   "cell_type": "code",
   "execution_count": 122,
   "metadata": {},
   "outputs": [],
   "source": [
    "RegressionOne_x = cleaned[['average_demand_pressure_bar','uphill_angle_before_deg_4','load_percent_inc_bogie']]\n",
    "\n"
   ]
  },
  {
   "cell_type": "code",
   "execution_count": 214,
   "metadata": {},
   "outputs": [],
   "source": [
    "RegressionTwo_x = single_asset[['average_demand_pressure_bar','uphill_angle_before_deg_4','load_percent_inc_bogie']]\n",
    "\n"
   ]
  },
  {
   "cell_type": "code",
   "execution_count": 11,
   "metadata": {},
   "outputs": [],
   "source": [
    "RegressionOne_y = cleaned['braking_rate']"
   ]
  },
  {
   "cell_type": "code",
   "execution_count": 213,
   "metadata": {},
   "outputs": [],
   "source": [
    "RegressionTwo_y = single_asset['braking_rate']"
   ]
  },
  {
   "cell_type": "code",
   "execution_count": 124,
   "metadata": {},
   "outputs": [],
   "source": [
    "x1train, x1test, y1train, y1test = train_test_split(RegressionOne_x,RegressionOne_y, test_size=0.25, random_state=42)"
   ]
  },
  {
   "cell_type": "code",
   "execution_count": 215,
   "metadata": {},
   "outputs": [],
   "source": [
    "x2train, x2test, y2train, y2test = train_test_split(RegressionTwo_x,RegressionTwo_y, test_size=0.25, random_state=42)"
   ]
  },
  {
   "cell_type": "code",
   "execution_count": 170,
   "metadata": {},
   "outputs": [
    {
     "data": {
      "text/html": [
       "<div>\n",
       "<style scoped>\n",
       "    .dataframe tbody tr th:only-of-type {\n",
       "        vertical-align: middle;\n",
       "    }\n",
       "\n",
       "    .dataframe tbody tr th {\n",
       "        vertical-align: top;\n",
       "    }\n",
       "\n",
       "    .dataframe thead th {\n",
       "        text-align: right;\n",
       "    }\n",
       "</style>\n",
       "<table border=\"1\" class=\"dataframe\">\n",
       "  <thead>\n",
       "    <tr style=\"text-align: right;\">\n",
       "      <th></th>\n",
       "      <th>average_demand_pressure_bar</th>\n",
       "      <th>uphill_angle_before_deg_4</th>\n",
       "      <th>load_percent_inc_bogie</th>\n",
       "    </tr>\n",
       "  </thead>\n",
       "  <tbody>\n",
       "    <tr>\n",
       "      <th>count</th>\n",
       "      <td>15000.000000</td>\n",
       "      <td>15000.000000</td>\n",
       "      <td>15000.000000</td>\n",
       "    </tr>\n",
       "    <tr>\n",
       "      <th>mean</th>\n",
       "      <td>1.727329</td>\n",
       "      <td>-0.925221</td>\n",
       "      <td>45.479409</td>\n",
       "    </tr>\n",
       "    <tr>\n",
       "      <th>std</th>\n",
       "      <td>0.408318</td>\n",
       "      <td>2.678555</td>\n",
       "      <td>24.666512</td>\n",
       "    </tr>\n",
       "    <tr>\n",
       "      <th>min</th>\n",
       "      <td>0.600000</td>\n",
       "      <td>-9.320000</td>\n",
       "      <td>11.111111</td>\n",
       "    </tr>\n",
       "    <tr>\n",
       "      <th>25%</th>\n",
       "      <td>1.582000</td>\n",
       "      <td>-2.560000</td>\n",
       "      <td>24.484513</td>\n",
       "    </tr>\n",
       "    <tr>\n",
       "      <th>50%</th>\n",
       "      <td>1.746000</td>\n",
       "      <td>-0.800000</td>\n",
       "      <td>35.932914</td>\n",
       "    </tr>\n",
       "    <tr>\n",
       "      <th>75%</th>\n",
       "      <td>1.965000</td>\n",
       "      <td>0.750000</td>\n",
       "      <td>63.967391</td>\n",
       "    </tr>\n",
       "    <tr>\n",
       "      <th>max</th>\n",
       "      <td>3.011000</td>\n",
       "      <td>7.400000</td>\n",
       "      <td>119.552885</td>\n",
       "    </tr>\n",
       "  </tbody>\n",
       "</table>\n",
       "</div>"
      ],
      "text/plain": [
       "       average_demand_pressure_bar  uphill_angle_before_deg_4  \\\n",
       "count                 15000.000000               15000.000000   \n",
       "mean                      1.727329                  -0.925221   \n",
       "std                       0.408318                   2.678555   \n",
       "min                       0.600000                  -9.320000   \n",
       "25%                       1.582000                  -2.560000   \n",
       "50%                       1.746000                  -0.800000   \n",
       "75%                       1.965000                   0.750000   \n",
       "max                       3.011000                   7.400000   \n",
       "\n",
       "       load_percent_inc_bogie  \n",
       "count            15000.000000  \n",
       "mean                45.479409  \n",
       "std                 24.666512  \n",
       "min                 11.111111  \n",
       "25%                 24.484513  \n",
       "50%                 35.932914  \n",
       "75%                 63.967391  \n",
       "max                119.552885  "
      ]
     },
     "execution_count": 170,
     "metadata": {},
     "output_type": "execute_result"
    }
   ],
   "source": [
    "x2train.describe()"
   ]
  },
  {
   "cell_type": "code",
   "execution_count": 131,
   "metadata": {},
   "outputs": [
    {
     "ename": "TypeError",
     "evalue": "must be real number, not str",
     "output_type": "error",
     "traceback": [
      "\u001b[1;31m---------------------------------------------------------------------------\u001b[0m",
      "\u001b[1;31mTypeError\u001b[0m                                 Traceback (most recent call last)",
      "\u001b[1;32m<ipython-input-131-365267f16d2b>\u001b[0m in \u001b[0;36m<module>\u001b[1;34m\u001b[0m\n\u001b[1;32m----> 1\u001b[1;33m \u001b[0msample_weights_low\u001b[0m \u001b[1;33m=\u001b[0m \u001b[1;33m[\u001b[0m\u001b[0mmath\u001b[0m\u001b[1;33m.\u001b[0m\u001b[0mlog\u001b[0m\u001b[1;33m(\u001b[0m\u001b[0mx\u001b[0m\u001b[1;33m)\u001b[0m \u001b[1;32mfor\u001b[0m \u001b[0mx\u001b[0m \u001b[1;32min\u001b[0m \u001b[0mx1train\u001b[0m\u001b[1;33m]\u001b[0m\u001b[1;33m\u001b[0m\u001b[1;33m\u001b[0m\u001b[0m\n\u001b[0m",
      "\u001b[1;32m<ipython-input-131-365267f16d2b>\u001b[0m in \u001b[0;36m<listcomp>\u001b[1;34m(.0)\u001b[0m\n\u001b[1;32m----> 1\u001b[1;33m \u001b[0msample_weights_low\u001b[0m \u001b[1;33m=\u001b[0m \u001b[1;33m[\u001b[0m\u001b[0mmath\u001b[0m\u001b[1;33m.\u001b[0m\u001b[0mlog\u001b[0m\u001b[1;33m(\u001b[0m\u001b[0mx\u001b[0m\u001b[1;33m)\u001b[0m \u001b[1;32mfor\u001b[0m \u001b[0mx\u001b[0m \u001b[1;32min\u001b[0m \u001b[0mx1train\u001b[0m\u001b[1;33m]\u001b[0m\u001b[1;33m\u001b[0m\u001b[1;33m\u001b[0m\u001b[0m\n\u001b[0m",
      "\u001b[1;31mTypeError\u001b[0m: must be real number, not str"
     ]
    }
   ],
   "source": [
    "sample_weights_low = [math.log(x) for x in x1train]"
   ]
  },
  {
   "cell_type": "code",
   "execution_count": 149,
   "metadata": {},
   "outputs": [],
   "source": [
    "sample_weights_low = [np.sqrt(x) for x in x1train.average_demand_pressure_bar]"
   ]
  },
  {
   "cell_type": "code",
   "execution_count": 216,
   "metadata": {},
   "outputs": [],
   "source": [
    "sample_weights_lower = [1/x for x in x2train.average_demand_pressure_bar]"
   ]
  },
  {
   "cell_type": "code",
   "execution_count": null,
   "metadata": {},
   "outputs": [],
   "source": []
  },
  {
   "cell_type": "code",
   "execution_count": 178,
   "metadata": {},
   "outputs": [
    {
     "data": {
      "text/plain": [
       "20000"
      ]
     },
     "execution_count": 178,
     "metadata": {},
     "output_type": "execute_result"
    }
   ],
   "source": [
    "len(sample_weights_low)"
   ]
  },
  {
   "cell_type": "markdown",
   "metadata": {},
   "source": [
    "Train the model"
   ]
  },
  {
   "cell_type": "code",
   "execution_count": 151,
   "metadata": {},
   "outputs": [],
   "source": [
    "lm1 = LinearRegression()\n",
    "lm1.fit(x1train,y1train, sample_weight = sample_weights_low)\n",
    "pred_train = lm1.predict(x1train)\n",
    "y_outcomes = lm1.predict(x1test)"
   ]
  },
  {
   "cell_type": "code",
   "execution_count": 217,
   "metadata": {},
   "outputs": [],
   "source": [
    "lm2 = LinearRegression()\n",
    "lm2.fit(x2train,y2train, sample_weight = sample_weights_lower)\n",
    "pred_train2 = lm2.predict(x2train)\n",
    "y_outcomes2 = lm2.predict(x2test)"
   ]
  },
  {
   "cell_type": "code",
   "execution_count": null,
   "metadata": {},
   "outputs": [],
   "source": [
    "RegressionOne_y.describe()"
   ]
  },
  {
   "cell_type": "markdown",
   "metadata": {},
   "source": []
  },
  {
   "cell_type": "code",
   "execution_count": 114,
   "metadata": {
    "scrolled": true
   },
   "outputs": [
    {
     "data": {
      "text/plain": [
       "array([ 2.01768286e-03,  6.77194712e-03,  1.11831167e-04, -4.59678776e-07,\n",
       "       -1.81107264e-04,  1.11831167e-04, -8.15386415e-07, -1.33839237e-07])"
      ]
     },
     "execution_count": 114,
     "metadata": {},
     "output_type": "execute_result"
    }
   ],
   "source": [
    "lm1.coef_"
   ]
  },
  {
   "cell_type": "code",
   "execution_count": 196,
   "metadata": {
    "scrolled": true
   },
   "outputs": [
    {
     "data": {
      "text/plain": [
       "array([ 7.80335982e-03,  2.53528537e-06, -1.55832422e-05])"
      ]
     },
     "execution_count": 196,
     "metadata": {},
     "output_type": "execute_result"
    }
   ],
   "source": [
    "lm2.coef_"
   ]
  },
  {
   "cell_type": "code",
   "execution_count": 102,
   "metadata": {},
   "outputs": [
    {
     "name": "stdout",
     "output_type": "stream",
     "text": [
      "Coefficients: \n",
      " [ 3.38550524e-03  6.38053294e-03  5.59717191e-05 -8.16773775e-06\n",
      " -9.45406032e-05  5.59717191e-05 -1.90469666e-07 -1.32521911e-07]\n"
     ]
    }
   ],
   "source": [
    "# The coefficients\n",
    "print('Coefficients: \\n', lm1.coef_)"
   ]
  },
  {
   "cell_type": "code",
   "execution_count": 152,
   "metadata": {},
   "outputs": [
    {
     "name": "stdout",
     "output_type": "stream",
     "text": [
      "Mean squared error: 0.000016\n"
     ]
    }
   ],
   "source": [
    "# The mean squared error\n",
    "print(\"Mean squared error: %.6f\"% mean_squared_error(y1test, y_outcomes))"
   ]
  },
  {
   "cell_type": "code",
   "execution_count": 220,
   "metadata": {},
   "outputs": [
    {
     "name": "stdout",
     "output_type": "stream",
     "text": [
      "Mean squared error: 0.000016\n"
     ]
    }
   ],
   "source": [
    "# The mean squared error\n",
    "print(\"Mean squared error: %.6f\"% mean_squared_error(y2test, y_outcomes2))"
   ]
  },
  {
   "cell_type": "code",
   "execution_count": 153,
   "metadata": {},
   "outputs": [
    {
     "name": "stdout",
     "output_type": "stream",
     "text": [
      "Variance score: 0.39479\n"
     ]
    }
   ],
   "source": [
    "print('Variance score: %.5f' % r2_score(y1test, y_outcomes))"
   ]
  },
  {
   "cell_type": "code",
   "execution_count": 218,
   "metadata": {},
   "outputs": [
    {
     "name": "stdout",
     "output_type": "stream",
     "text": [
      "Variance score: 0.40\n"
     ]
    }
   ],
   "source": [
    "print('Variance score: %.2f' % r2_score(y2test, y_outcomes2))"
   ]
  },
  {
   "cell_type": "code",
   "execution_count": 154,
   "metadata": {},
   "outputs": [
    {
     "data": {
      "text/plain": [
       "Text(0, 0.5, 'Residuals')"
      ]
     },
     "execution_count": 154,
     "metadata": {},
     "output_type": "execute_result"
    },
    {
     "data": {
      "image/png": "[encoded data removed]",
      "text/plain": [
       "<Figure size 576x396 with 1 Axes>"
      ]
     },
     "metadata": {},
     "output_type": "display_data"
    }
   ],
   "source": [
    "plt.scatter(lm1.predict(x1train), lm1.predict(x1train) - y1train, c='b', s=40, alpha=0.5)\n",
    "plt.scatter(lm1.predict(x1test), lm1.predict(x1test) - y1test, c='g', s=40)\n",
    "plt.hlines(y = 0, xmin = 0, xmax = 0)\n",
    "plt.title('Residual Plot using training (blue) and test (green) data')\n",
    "plt.ylabel('Residuals')"
   ]
  },
  {
   "cell_type": "code",
   "execution_count": 219,
   "metadata": {},
   "outputs": [
    {
     "data": {
      "text/plain": [
       "Text(0, 0.5, 'Residuals')"
      ]
     },
     "execution_count": 219,
     "metadata": {},
     "output_type": "execute_result"
    },
    {
     "data": {
      "image/png": "[encoded data removed]",
      "text/plain": [
       "<Figure size 576x396 with 1 Axes>"
      ]
     },
     "metadata": {},
     "output_type": "display_data"
    }
   ],
   "source": [
    "plt.scatter(lm2.predict(x2train), lm2.predict(x2train) - y2train, c='b', s=40, alpha=0.5)\n",
    "plt.scatter(lm2.predict(x2test), lm2.predict(x2test) - y2test, c='g', s=40)\n",
    "plt.hlines(y = 0, xmin = 0, xmax = 0)\n",
    "plt.title('Residual Plot using training (blue) and test (green) data')\n",
    "plt.ylabel('Residuals')"
   ]
  },
  {
   "cell_type": "code",
   "execution_count": 10,
   "metadata": {},
   "outputs": [],
   "source": [
    "cleaned.to_csv(r'C:\\Users\\charl\\Dropbox\\TheBusiness\\Data Scientist\\Braking\\cleaned.csv')"
   ]
  },
  {
   "cell_type": "code",
   "execution_count": null,
   "metadata": {},
   "outputs": [],
   "source": []
  },
  {
   "cell_type": "code",
   "execution_count": null,
   "metadata": {},
   "outputs": [],
   "source": [
    "len(y_outcomes)"
   ]
  },
  {
   "cell_type": "code",
   "execution_count": null,
   "metadata": {},
   "outputs": [],
   "source": [
    "\n",
    "\n",
    "# The coefficients\n",
    "print('Coefficients: \\n', lm1.coef_)\n",
    "# The mean squared error\n",
    "print(\"Mean squared error: %.2f\"% mean_squared_error(y1test, pred_test))\n",
    "# Explained variance score: 1 is perfect prediction\n",
    "print('Variance score: %.2f' % r2_score(diabetes_y_test, diabetes_y_pred))\n",
    "\n",
    "# Plot outputs\n",
    "plt.scatter(diabetes_X_test, diabetes_y_test,  color='black')\n",
    "plt.plot(diabetes_X_test, diabetes_y_pred, color='blue', linewidth=3)\n",
    "\n",
    "plt.xticks(())\n",
    "plt.yticks(())\n",
    "\n",
    "plt.show()"
   ]
  }
 ],
 "metadata": {
  "kernelspec": {
   "display_name": "Python 3",
   "language": "python",
   "name": "python3"
  },
  "language_info": {
   "codemirror_mode": {
    "name": "ipython",
    "version": 3
   },
   "file_extension": ".py",
   "mimetype": "text/x-python",
   "name": "python",
   "nbconvert_exporter": "python",
   "pygments_lexer": "ipython3",
   "version": "3.7.1"
  }
 },
 "nbformat": 4,
 "nbformat_minor": 2
}
